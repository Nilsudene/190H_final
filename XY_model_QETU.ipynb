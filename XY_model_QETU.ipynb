{
 "cells": [
  {
   "cell_type": "code",
   "execution_count": 321,
   "metadata": {},
   "outputs": [],
   "source": [
    "from qiskit import QuantumCircuit, transpile\n",
    "import numpy as np\n",
    "from qiskit.quantum_info.operators import Operator\n",
    "from qiskit.quantum_info import Statevector, state_fidelity, partial_trace\n",
    "from scipy.linalg import expm\n",
    "import matplotlib.pyplot as plt\n",
    "from qiskit.quantum_info import Kraus, SuperOp\n",
    "from qiskit.visualization import plot_histogram\n",
    "from qiskit.transpiler.preset_passmanagers import generate_preset_pass_manager\n",
    "from qiskit_aer import AerSimulator\n",
    " \n",
    "# Import from Qiskit Aer noise module\n",
    "from qiskit_aer.noise import (\n",
    "    NoiseModel,\n",
    "    QuantumError,\n",
    "    ReadoutError,\n",
    "    depolarizing_error,\n",
    "    pauli_error,\n",
    "    thermal_relaxation_error,\n",
    ")\n"
   ]
  },
  {
   "cell_type": "markdown",
   "metadata": {},
   "source": [
    "##### First we define some helping functions"
   ]
  },
  {
   "cell_type": "code",
   "execution_count": 266,
   "metadata": {},
   "outputs": [],
   "source": [
    "# flattening functions to go from 2d lattice point to qubit number in the way i texted in the group about\n",
    "def lattice_to_qubit(i, j, N):\n",
    "    return i*N + j\n",
    "\n",
    "# inverse transformation\n",
    "def qubit_to_lattice(q, N):\n",
    "    i = q // N\n",
    "    j = q % N\n",
    "    return i, j\n",
    "\n",
    "# function to get neighbors of given point in qubit index\n",
    "def get_neighbors(i, j, N):\n",
    "    neighbors = []\n",
    "    \n",
    "    # Check top neighbor (i-1, j)\n",
    "    if i - 1 >= 0:\n",
    "        neighbors.append(lattice_to_qubit(i - 1, j, N))\n",
    "    \n",
    "    # Check bottom neighbor (i+1, j)\n",
    "    if i + 1 < N:\n",
    "        neighbors.append(lattice_to_qubit(i + 1, j, N))\n",
    "    \n",
    "    # Check left neighbor (i, j-1)\n",
    "    if j - 1 >= 0:\n",
    "        neighbors.append(lattice_to_qubit(i, j - 1, N))\n",
    "    \n",
    "    # Check right neighbor (i, j+1)\n",
    "    if j + 1 < N:\n",
    "        neighbors.append(lattice_to_qubit(i, j + 1, N))\n",
    "    \n",
    "    return neighbors\n",
    "\n",
    "# function to get the commuting groups for the W operator\n",
    "def find_groups(lattice_size):\n",
    "    # List to store groups of nearest neighbors\n",
    "    groups = [[], [], [], []]\n",
    "    \n",
    "    # Iterate over all lattice points\n",
    "    for x in range(lattice_size):\n",
    "        for y in range(lattice_size):\n",
    "            # Determine the parity of x and y\n",
    "            parity_x = x % 2\n",
    "            parity_y = y % 2\n",
    "            \n",
    "            # Find the right neighboring points (right and up)\n",
    "            if x + 1 < lattice_size:  # Right neighbor\n",
    "                if  parity_x == 0:\n",
    "                    groups[0].append(([x, y], [x + 1, y]))\n",
    "                else:\n",
    "                    groups[1].append(([x, y], [x + 1, y]))\n",
    "            \n",
    "            if y+1 < lattice_size:  # Up neighbor\n",
    "                if parity_y == 0:\n",
    "                    groups[2].append(([x, y], [x, y + 1]))\n",
    "                else:\n",
    "                    groups[3].append(([x, y], [x, y + 1]))\n",
    "    \n",
    "    # Return the groups ordered by your specified parity rule\n",
    "    return groups\n",
    "\n",
    "\n",
    "# digital gate trotterization of the W operator\n",
    "def W(qc, t, M, J_matrix, g_matrix):\n",
    "    for _ in range(M):\n",
    "        # applying the Z rotation\n",
    "        for i in range(int(np.sqrt(qc.num_qubits -1))):\n",
    "            for j in range(int(np.sqrt(qc.num_qubits -1))):\n",
    "                q = lattice_to_qubit(i, j, int(np.sqrt(qc.num_qubits -1))) \n",
    "                qc.rz(J_matrix[i,j] * t /(M) , q +1)\n",
    "        # applying the XX and YY rotations\n",
    "        groups = find_groups(int(np.sqrt(qc.num_qubits -1)))\n",
    "        for k in range(2):\n",
    "            for group in groups:\n",
    "                if group == []:\n",
    "                    continue\n",
    "                for pairs in group:\n",
    "                    q1 = lattice_to_qubit(pairs[0][0], pairs[0][1], int(np.sqrt(qc.num_qubits -1))) \n",
    "                    q2 = lattice_to_qubit(pairs[1][0], pairs[1][1], int(np.sqrt(qc.num_qubits -1))) \n",
    "                    angle = g_matrix[q1, q2] * t / (2*M)\n",
    "                    if k == 0:\n",
    "                        qc.rxx(angle, q1 +1, q2 +1)\n",
    "                    if k == 1:\n",
    "                        qc.ryy(angle, q1 +1, q2 +1)\n",
    "            \n"
   ]
  },
  {
   "cell_type": "code",
   "execution_count": 368,
   "metadata": {},
   "outputs": [],
   "source": [
    "# defining pauli matrices\n",
    "I = np.eye(2)\n",
    "X = np.array([[0, 1], [1, 0]])\n",
    "Y = np.array([[0, -1j], [1j, 0]])\n",
    "Z = np.array([[1, 0], [0, -1]])\n",
    "\n",
    "# function for pauli chain with I and X in indexed spots\n",
    "def xixj(index1,index2,N):\n",
    "    if index1 == 0 or index2 == 0:\n",
    "        result = X\n",
    "    else:\n",
    "        result = I\n",
    "    for i in range(1,N):\n",
    "        if i == index1 or i == index2:\n",
    "            result = np.kron(result,X)\n",
    "        else:\n",
    "            result = np.kron(result, I)\n",
    "    return result\n",
    "\n",
    "# function for pauli chain with I and Y in indexed spots\n",
    "def yiyj(index1,index2,N):\n",
    "    if index1 == 0 or index2 == 0:\n",
    "        result = Y\n",
    "    else:\n",
    "        result = I\n",
    "    for i in range(1,N):\n",
    "        if i == index1 or i == index2:\n",
    "            result = np.kron(result,Y)\n",
    "        else:\n",
    "            result = np.kron(result, I)\n",
    "    return result\n",
    "\n",
    "# function for pauli chain with I and Z in indexed spot\n",
    "def zi(index,N):\n",
    "    if index == 0:\n",
    "        result = Z\n",
    "    else:\n",
    "        result = I\n",
    "    for i in range(1,N):\n",
    "        if i == index:\n",
    "            result = np.kron(result,Z)\n",
    "        else:\n",
    "            result = np.kron(result, I)\n",
    "    return result\n",
    "\n",
    "# making a function for the XY model hamiltonian H\n",
    "def Hamiltonian_unitary(J_matrix, g_matrix,N):\n",
    "    H = np.zeros((2**(N**2), 2**(N**2)), dtype=np.complex128)\n",
    "    interaction_count = [] # keeping track of pairs to only ocunt once\n",
    "    for i in range(N):\n",
    "        for j in range(N):\n",
    "            q = lattice_to_qubit(i,j,N)\n",
    "            H += J_matrix[qubit_to_lattice(q,N)]*zi(q,N**2) # adding onsite potential\n",
    "            neighbors = get_neighbors(i,j, N) # getting nearest neighbors without periodic boundaries\n",
    "            for neighbor in neighbors:\n",
    "                q1 = lattice_to_qubit(i, j, N) # mapping to qubits with chessboard pattern\n",
    "                q2 = neighbor\n",
    "                if (q1,q2) not in interaction_count: # checking if the pair has already been counted\n",
    "                    H += g_matrix[q1, q2]*xixj(q1,q2,N**2)/2 # applying the X term\n",
    "                    H += g_matrix[q1, q2]*yiyj(q1,q2,N**2)/2 # applying the Y term\n",
    "                    interaction_count.append((q2,q1))\n",
    "                    # print(q1,q2)\n",
    "    \n",
    "    return H\n",
    "\n",
    "\n",
    "def Ham_evo(H, t):\n",
    "    if t%2 == 0: # to ensure alternatiion between W(1/2) and W(-1/2)\n",
    "        op = Operator(expm(-1j*H/2))\n",
    "        return op\n",
    "    else:\n",
    "        op = Operator(expm(1j*H/2))\n",
    "        return op\n",
    "\n",
    "def H_sh(H, eta):\n",
    "    diag = np.linalg.eigvalsh(H)\n",
    "    c_1 = (np.pi - 2*eta)/(np.max(diag)-np.min(diag))\n",
    "    c_2 = eta - c_1*np.min(diag)\n",
    "    return c_1 * H + c_2 * np.eye(len(diag))"
   ]
  },
  {
   "cell_type": "code",
   "execution_count": 306,
   "metadata": {},
   "outputs": [],
   "source": [
    "def analog_qetu(phi, N, H, num_applications):\n",
    "    # creating a quantum circuit with NxN qubits and one ancilla qubit\n",
    "    qc = QuantumCircuit(N**2 + 1)\n",
    "\n",
    "    # initializing superposition state\n",
    "    for i in range(N**2):\n",
    "        qc.h(i+1)\n",
    "\n",
    "    for _ in range(num_applications):\n",
    "        \n",
    "        for i in range(len(phi)-1):\n",
    "            # applying the x rotation by the phase to the ancilla qubit\n",
    "            qc.rx(phi[i], 0)\n",
    "\n",
    "            # applying the controlled K string of pauli operators\n",
    "            for j in range(int(N**2)): \n",
    "                if j%2 == 0:\n",
    "                    qc.cx(0, j+1)\n",
    "                if j%2 == 1:\n",
    "                    qc.cy(0, j+1)\n",
    "            \n",
    "            # applying the hamiltonian evolution\n",
    "            qc.append(Ham_evo(H, i), range(1,N**2+1))\n",
    "            \n",
    "            # applying the k-string again\n",
    "\n",
    "            for j in range(int(N**2)):\n",
    "                if j%2 == 0:\n",
    "                    qc.cx(0, j+1)\n",
    "                if j%2 == 1:\n",
    "                    qc.cy(0, j+1)\n",
    "            \n",
    "        # applying the last x rotation\n",
    "        qc.rx(phi[-1], 0)\n",
    "\n",
    "    return qc\n",
    "\n",
    "def digital_qetu(phi, N, t, M, J_matrix, g_matrix):\n",
    "    # creating a quantum circuit with NxN qubits and one ancilla qubit\n",
    "    qc = QuantumCircuit(N**2 + 1)\n",
    "    \n",
    "    for i in range(len(phi)-1):\n",
    "        # applying the x rotation by the phase to the ancilla qubit\n",
    "        qc.rx(phi[i], 0)\n",
    "\n",
    "        # applying the controlled K string of pauli operators\n",
    "        for i in range(int(N**2)): \n",
    "            if i%2 == 0:\n",
    "                qc.cx(0, i+1)\n",
    "            if i%2 == 1:\n",
    "                qc.cy(0, i+1)\n",
    "\n",
    "        qc.barrier()\n",
    "        \n",
    "        # applying the hamiltonian evolution\n",
    "        W(qc, t, M, J_matrix, g_matrix)\n",
    "\n",
    "        qc.barrier()\n",
    "        \n",
    "        # applying the k-string again\n",
    "\n",
    "        for i in range(int(N**2)):\n",
    "            if i%2 == 0:\n",
    "                qc.cx(0, i+1)\n",
    "            if i%2 == 1:\n",
    "                qc.cy(0, i+1)\n",
    "        \n",
    "    # applying the last x rotation\n",
    "    qc.rx(phi[-1], 0)\n",
    "\n",
    "    return qc\n"
   ]
  },
  {
   "cell_type": "code",
   "execution_count": 21,
   "metadata": {},
   "outputs": [
    {
     "data": {
      "text/latex": [
       "$$\\frac{1}{4} |00000\\rangle+(-0.1770183546 + 0.2273243567 i) |00001\\rangle+(-0.1040367091 + 0.1136621784 i) |00010\\rangle+(-0.243920391 + 0.0272299523 i) |00011\\rangle+(0.0729816454 + 0.2273243567 i) |00100\\rangle+(-0.243920391 + 0.0544599045 i) |00101\\rangle + \\ldots +(0.006079609 + 0.0544599045 i) |11010\\rangle-0.1770183546 |11011\\rangle+(0.006079609 + 0.0272299523 i) |11100\\rangle+0.1136621784 i |11101\\rangle+0.0729816454 |11110\\rangle$$"
      ],
      "text/plain": [
       "<IPython.core.display.Latex object>"
      ]
     },
     "execution_count": 21,
     "metadata": {},
     "output_type": "execute_result"
    }
   ],
   "source": []
  },
  {
   "cell_type": "code",
   "execution_count": 367,
   "metadata": {},
   "outputs": [
    {
     "name": "stdout",
     "output_type": "stream",
     "text": [
      "[1.57079633+0.j 0.79039816+0.j 0.01      +0.j 3.13159265+0.j\n",
      " 2.35119449+0.j 0.46714666+0.j 1.57079633+0.j 2.67444599+0.j\n",
      " 2.35119449+0.j 1.57079633+0.j 0.79039816+0.j 1.57079633+0.j\n",
      " 1.57079633+0.j 1.57079633+0.j 3.13159265+0.j 0.01      +0.j]\n"
     ]
    }
   ],
   "source": [
    "N = 2\n",
    "eta = 0.01\n",
    "\n",
    "J_test = 1*np.ones((N,N))\n",
    "G_test = 1*np.ones((N**2,N**2))\n",
    "\n",
    "H = Hamiltonian_unitary(J_test, G_test, N)\n",
    "\n",
    "H2 = H_sh(H, eta = eta)\n",
    "eigvals, eigvecs = np.linalg.eig(H2)\n",
    "min_ind = np.argmin(eigvals)\n",
    "target_state = Statevector(eigvecs[min_ind]/(np.linalg.norm(eigvecs[min_ind])))\n",
    "target_state.draw('latex')\n",
    "print(eigvals)"
   ]
  },
  {
   "cell_type": "code",
   "execution_count": 369,
   "metadata": {},
   "outputs": [
    {
     "data": {
      "text/plain": [
       "[<matplotlib.lines.Line2D at 0x1e82de6aad0>]"
      ]
     },
     "execution_count": 369,
     "metadata": {},
     "output_type": "execute_result"
    },
    {
     "data": {
      "image/png": "[encoded data removed]",
      "text/plain": [
       "<Figure size 640x480 with 1 Axes>"
      ]
     },
     "metadata": {},
     "output_type": "display_data"
    }
   ],
   "source": [
    "t = 1\n",
    "M = 1\n",
    "# digital implementation\n",
    "N = 2\n",
    "qc = QuantumCircuit(N**2+1)\n",
    "for i in range(1, N**2 +1):\n",
    "    qc.h(i)\n",
    "qc.unitary(Ham_evo(H,0), range(1,N**2+1))\n",
    "state = Statevector.from_instruction(qc)\n",
    "\n",
    "# analog implementation\n",
    "fidelities = []\n",
    "for i in range(10):\n",
    "    qc2 = QuantumCircuit(N**2+1)\n",
    "    for j in range(1, N**2 +1):\n",
    "        qc2.h(j)\n",
    "    W(qc2, t,i, J_test, G_test)\n",
    "    state2 = Statevector.from_instruction(qc2)\n",
    "    fidelities.append(state_fidelity(state, state2))\n",
    "plt.plot(np.linspace(1,10,10), fidelities)"
   ]
  },
  {
   "cell_type": "markdown",
   "metadata": {},
   "source": [
    "CONVERGENCE!!!!"
   ]
  },
  {
   "cell_type": "code",
   "execution_count": 353,
   "metadata": {},
   "outputs": [
    {
     "name": "stdout",
     "output_type": "stream",
     "text": [
      "NoiseModel:\n",
      "  Basis gates: ['cx', 'id', 'rz', 'sx']\n",
      "  Instructions with noise: ['Ham_evo(H,0)']\n",
      "  All-qubits errors: ['Ham_evo(H,0)']\n"
     ]
    }
   ],
   "source": [
    "# setting up a noise model for depolarizing noise on our unitary\n",
    "noise_model = NoiseModel()\n",
    "\n",
    "error = depolarizing_error(0.05, 4)\n",
    "noise_model.add_all_qubit_quantum_error(error, [\"Ham_evo(H,0)\"])\n",
    "print(noise_model)"
   ]
  },
  {
   "cell_type": "code",
   "execution_count": 328,
   "metadata": {},
   "outputs": [
    {
     "name": "stdout",
     "output_type": "stream",
     "text": [
      "0.12733604158309567\n"
     ]
    }
   ],
   "source": [
    "phases = np.loadtxt('phases.txt')\n",
    "qc = analog_qetu(phases, N,H, 1)\n",
    "state = Statevector.from_instruction(qc)\n",
    "state = partial_trace(state, [0])\n",
    "state = np.diagonal(state)/np.linalg.norm(np.diagonal(state))\n",
    "state = Statevector(state)\n",
    "print(state_fidelity(state,target_state))"
   ]
  },
  {
   "cell_type": "code",
   "execution_count": null,
   "metadata": {},
   "outputs": [],
   "source": [
    "\n"
   ]
  },
  {
   "cell_type": "code",
   "execution_count": null,
   "metadata": {},
   "outputs": [],
   "source": []
  }
 ],
 "metadata": {
  "kernelspec": {
   "display_name": "190H",
   "language": "python",
   "name": "python3"
  },
  "language_info": {
   "codemirror_mode": {
    "name": "ipython",
    "version": 3
   },
   "file_extension": ".py",
   "mimetype": "text/x-python",
   "name": "python",
   "nbconvert_exporter": "python",
   "pygments_lexer": "ipython3",
   "version": "3.10.16"
  }
 },
 "nbformat": 4,
 "nbformat_minor": 2
}
