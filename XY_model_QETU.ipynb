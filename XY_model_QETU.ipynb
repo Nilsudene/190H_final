{
 "cells": [
  {
   "cell_type": "code",
   "execution_count": 57,
   "metadata": {},
   "outputs": [],
   "source": [
    "from qiskit import QuantumCircuit, transpile\n",
    "import numpy as np\n",
    "from qiskit.quantum_info.operators import Operator\n",
    "from qiskit.quantum_info import Statevector, state_fidelity\n",
    "from scipy.linalg import expm\n",
    "import matplotlib.pyplot as plt"
   ]
  },
  {
   "cell_type": "markdown",
   "metadata": {},
   "source": [
    "##### First we define some helping functions"
   ]
  },
  {
   "cell_type": "code",
   "execution_count": 97,
   "metadata": {},
   "outputs": [],
   "source": [
    "# flattening functions to go from 2d lattice point to qubit number in the way i texted in the group about\n",
    "def lattice_to_qubit(i, j, N):\n",
    "    if i%2 == 0:\n",
    "        return i*N + j\n",
    "    else:\n",
    "        return i*N + N -j -1\n",
    "\n",
    "# inverse transformation\n",
    "def qubit_to_lattice(q, N):\n",
    "    # Calculate the row (i) and column (j) in the lattice\n",
    "    i = q // N  # Integer division to get the row\n",
    "    if i % 2 == 0:\n",
    "        # For even rows, the qubit index increases left to right\n",
    "        j = q % N\n",
    "    else:\n",
    "        # For odd rows, the qubit index increases right to left\n",
    "        j = N - (q % N) - 1\n",
    "    return i, j\n",
    "\n",
    "# function to get neighbors of given point in qubit index\n",
    "def get_neighbors(i, j, N):\n",
    "    neighbors = []\n",
    "    \n",
    "    # Check top neighbor (i-1, j)\n",
    "    if i - 1 >= 0:\n",
    "        neighbors.append(lattice_to_qubit(i - 1, j, N))\n",
    "    \n",
    "    # Check bottom neighbor (i+1, j)\n",
    "    if i + 1 < N:\n",
    "        neighbors.append(lattice_to_qubit(i + 1, j, N))\n",
    "    \n",
    "    # Check left neighbor (i, j-1)\n",
    "    if j - 1 >= 0:\n",
    "        neighbors.append(lattice_to_qubit(i, j - 1, N))\n",
    "    \n",
    "    # Check right neighbor (i, j+1)\n",
    "    if j + 1 < N:\n",
    "        neighbors.append(lattice_to_qubit(i, j + 1, N))\n",
    "    \n",
    "    return neighbors\n",
    "\n",
    "# function to get the commuting groups for the W operator\n",
    "def find_groups(lattice_size):\n",
    "    # List to store groups of nearest neighbors\n",
    "    groups = [[], [], [], []]\n",
    "    \n",
    "    # Iterate over all lattice points\n",
    "    for x in range(lattice_size):\n",
    "        for y in range(lattice_size):\n",
    "            # Determine the parity of x and y\n",
    "            parity_x = x % 2\n",
    "            parity_y = y % 2\n",
    "            \n",
    "            # Find the right neighboring points (right and up)\n",
    "            if x + 1 < lattice_size:  # Right neighbor\n",
    "                if  parity_x == 0:\n",
    "                    groups[0].append(([x, y], [x + 1, y]))\n",
    "                else:\n",
    "                    groups[1].append(([x, y], [x + 1, y]))\n",
    "            \n",
    "            if y+1 < lattice_size:  # Up neighbor\n",
    "                if parity_y == 0:\n",
    "                    groups[2].append(([x, y], [x, y + 1]))\n",
    "                else:\n",
    "                    groups[3].append(([x, y], [x, y + 1]))\n",
    "    \n",
    "    # Return the groups ordered by your specified parity rule\n",
    "    return groups\n",
    "\n",
    "\n",
    "# digital gate trotterization of the W operator\n",
    "def W(qc, N, t, M, J_matrix, g_matrix):\n",
    "    for _ in range(M):\n",
    "        # applying the Z rotation\n",
    "        for i in range(N):\n",
    "            for j in range(N):\n",
    "                q = lattice_to_qubit(i, j, N) \n",
    "                qc.rz(J_matrix[i,j] * t /(2*M) , q +1)\n",
    "        # applying the XX and YY rotations\n",
    "        groups = find_groups(N)\n",
    "        for group in groups:\n",
    "            if group == []:\n",
    "                continue\n",
    "            for pairs in group:\n",
    "                q1 = lattice_to_qubit(pairs[0][0], pairs[0][1], N) \n",
    "                q2 = lattice_to_qubit(pairs[1][0], pairs[1][1], N) \n",
    "                angle = g_matrix[q1, q2] * t / (2*M)\n",
    "                qc.rxx(angle, q1 +1, q2 +1)\n",
    "                qc.ryy(angle, q1+1, q2+1)\n"
   ]
  },
  {
   "cell_type": "code",
   "execution_count": 104,
   "metadata": {},
   "outputs": [],
   "source": [
    "# defining pauli matrices\n",
    "I = np.eye(2)\n",
    "X = np.array([[0, 1], [1, 0]])\n",
    "Y = np.array([[0, -1j], [1j, 0]])\n",
    "Z = np.array([[1, 0], [0, -1]])\n",
    "\n",
    "# function for pauli chain with I and X in indexed spots\n",
    "def xixj(index1,index2,N):\n",
    "    if index1 == 0 or index2 == 0:\n",
    "        result = X\n",
    "    else:\n",
    "        result = I\n",
    "    for i in range(1,N):\n",
    "        if i == index1 or i == index2:\n",
    "            result = np.kron(result,X)\n",
    "        else:\n",
    "            result = np.kron(result, I)\n",
    "    return result\n",
    "\n",
    "# function for pauli chain with I and Y in indexed spots\n",
    "def yiyj(index1,index2,N):\n",
    "    if index1 == 0 or index2 == 0:\n",
    "        result = Y\n",
    "    else:\n",
    "        result = I\n",
    "    for i in range(1,N):\n",
    "        if i == index1 or i == index2:\n",
    "            result = np.kron(result,Y)\n",
    "        else:\n",
    "            result = np.kron(result, I)\n",
    "    return result\n",
    "\n",
    "# function for pauli chain with I and Z in indexed spot\n",
    "def zi(index,N):\n",
    "    if index == 0:\n",
    "        result = Z\n",
    "    else:\n",
    "        result = I\n",
    "    for i in range(1,N):\n",
    "        if i == index:\n",
    "            result = np.kron(result,Z)\n",
    "        else:\n",
    "            result = np.kron(result, I)\n",
    "    return result\n",
    "\n",
    "# making a function for the XY model hamiltonian H\n",
    "def Hamiltonian_unitary(J_matrix, g_matrix,N):\n",
    "    H = np.zeros((2**(N**2), 2**(N**2)), dtype=np.complex128)\n",
    "    interaction_count = [] # keeping track of pairs to only ocunt once\n",
    "    for i in range(N):\n",
    "        H += J_matrix[qubit_to_lattice(i,N)]*zi(i,N**2) # adding onsite potential\n",
    "        for j in range(N):\n",
    "            neighbors = get_neighbors(i,j, N) # getting nearest neighbors without periodic boundaries\n",
    "            for neighbor in neighbors:\n",
    "                q1 = lattice_to_qubit(i, j, N) # mapping to qubits with chessboard pattern\n",
    "                q2 = neighbor\n",
    "                if (q1,q2) not in interaction_count: # checking if the pair has already been counted\n",
    "                    H += g_matrix[q1, q2]*xixj(q1,q2,N**2)/2 # applying the X term\n",
    "                    H += g_matrix[q1, q2]*yiyj(q1,q2,N**2)/2 # applying the Y term\n",
    "                    interaction_count.append((q2,q1))\n",
    "    \n",
    "    return H\n",
    "\n",
    "\n",
    "def Ham_evo(H, t):\n",
    "    if t%2 == 0: # to ensure alternatiion between W(1/2) and W(-1/2)\n",
    "        op = Operator(expm(-1j*H/2))\n",
    "        op.label = \"W(1/2)\"\n",
    "        return op\n",
    "    else:\n",
    "        op = Operator(expm(1j*H/2))\n",
    "        op.label = \"W(-1/2)\"\n",
    "        return op\n",
    "    \n",
    "\n",
    "\n",
    "N = 2\n",
    "\n",
    "J_test = 1*np.ones((N,N))\n",
    "G_test = 1*np.ones((N**2,N**2))\n",
    "\n",
    "H = Hamiltonian_unitary(J_test, G_test, N)\n",
    "\n",
    "diag = np.linalg.eigvalsh(H)\n"
   ]
  },
  {
   "cell_type": "markdown",
   "metadata": {},
   "source": [
    "#### Comments on this so far\n",
    "\n",
    "We do a $N^2 +1$ qubit circuit, because we have the one control and a $N^2$ qubit hamiltonian, because each qubit models one spin site.\n",
    "Then we apply the phases first in order.\n",
    "There is a problem with the K-string: Since we have nearest neighbor terms and i flatten the NxN lattice to $N^2$ qubits with the formula i defined above. This only works for even values sidelength of the system we are trying to simulate though as there otherwise wont be a mapping to ensure all nearest neighbors are of different parity (i think).\n",
    "\n",
    "Rn i am not sure if the order $K (W^{t/M})^M K$ is correct or if there are supposed to be some K's in between the trotter steps as well."
   ]
  },
  {
   "cell_type": "code",
   "execution_count": 4,
   "metadata": {},
   "outputs": [],
   "source": [
    "def analog_qetu(phi, N, H):\n",
    "    # creating a quantum circuit with NxN qubits and one ancilla qubit\n",
    "    qc = QuantumCircuit(N**2 + 1)\n",
    "    \n",
    "    for i in range(len(phi)-1):\n",
    "        # applying the x rotation by the phase to the ancilla qubit\n",
    "        qc.rx(phi[i], 0)\n",
    "\n",
    "        # applying the controlled K string of pauli operators\n",
    "        for i in range(int(N**2)): \n",
    "            if i%2 == 0:\n",
    "                qc.cx(0, i+1)\n",
    "            if i%2 == 1:\n",
    "                qc.cy(0, i+1)\n",
    "        \n",
    "        # applying the hamiltonian evolution\n",
    "        qc.append(Ham_evo(H, i), range(1,N**2+1))\n",
    "        \n",
    "        # applying the k-string again\n",
    "\n",
    "        for i in range(int(N**2)):\n",
    "            if i%2 == 0:\n",
    "                qc.cx(0, i+1)\n",
    "            if i%2 == 1:\n",
    "                qc.cy(0, i+1)\n",
    "        \n",
    "    # applying the last x rotation\n",
    "    qc.rx(phi[-1], 0)\n",
    "\n",
    "    return qc\n",
    "\n",
    "def digital_qetu(phi, N, t, M, J_matrix, g_matrix):\n",
    "    # creating a quantum circuit with NxN qubits and one ancilla qubit\n",
    "    qc = QuantumCircuit(N**2 + 1)\n",
    "    \n",
    "    for i in range(len(phi)-1):\n",
    "        # applying the x rotation by the phase to the ancilla qubit\n",
    "        qc.rx(phi[i], 0)\n",
    "\n",
    "        # applying the controlled K string of pauli operators\n",
    "        for i in range(int(N**2)): \n",
    "            if i%2 == 0:\n",
    "                qc.cx(0, i+1)\n",
    "            if i%2 == 1:\n",
    "                qc.cy(0, i+1)\n",
    "\n",
    "        qc.barrier()\n",
    "        \n",
    "        # applying the hamiltonian evolution\n",
    "        W(qc, N, t, M, J_matrix, g_matrix)\n",
    "\n",
    "        qc.barrier()\n",
    "        \n",
    "        # applying the k-string again\n",
    "\n",
    "        for i in range(int(N**2)):\n",
    "            if i%2 == 0:\n",
    "                qc.cx(0, i+1)\n",
    "            if i%2 == 1:\n",
    "                qc.cy(0, i+1)\n",
    "        \n",
    "    # applying the last x rotation\n",
    "    qc.rx(phi[-1], 0)\n",
    "\n",
    "    return qc\n"
   ]
  },
  {
   "cell_type": "code",
   "execution_count": 21,
   "metadata": {},
   "outputs": [
    {
     "data": {
      "text/latex": [
       "$$\\frac{1}{4} |00000\\rangle+(-0.1770183546 + 0.2273243567 i) |00001\\rangle+(-0.1040367091 + 0.1136621784 i) |00010\\rangle+(-0.243920391 + 0.0272299523 i) |00011\\rangle+(0.0729816454 + 0.2273243567 i) |00100\\rangle+(-0.243920391 + 0.0544599045 i) |00101\\rangle + \\ldots +(0.006079609 + 0.0544599045 i) |11010\\rangle-0.1770183546 |11011\\rangle+(0.006079609 + 0.0272299523 i) |11100\\rangle+0.1136621784 i |11101\\rangle+0.0729816454 |11110\\rangle$$"
      ],
      "text/plain": [
       "<IPython.core.display.Latex object>"
      ]
     },
     "execution_count": 21,
     "metadata": {},
     "output_type": "execute_result"
    }
   ],
   "source": []
  },
  {
   "cell_type": "code",
   "execution_count": 109,
   "metadata": {},
   "outputs": [
    {
     "data": {
      "text/plain": [
       "[<matplotlib.lines.Line2D at 0x1e8346e1750>]"
      ]
     },
     "execution_count": 109,
     "metadata": {},
     "output_type": "execute_result"
    },
    {
     "data": {
      "image/png": "[encoded data removed]",
      "text/plain": [
       "<Figure size 640x480 with 1 Axes>"
      ]
     },
     "metadata": {},
     "output_type": "display_data"
    }
   ],
   "source": [
    "t = 1\n",
    "M = 1\n",
    "# digital implementation\n",
    "N = 2\n",
    "qc = QuantumCircuit(N**2+1)\n",
    "for i in range(1, N**2 +1):\n",
    "    qc.h(i)\n",
    "qc.unitary(Ham_evo(H,0), range(N**2))\n",
    "state = Statevector.from_instruction(qc)\n",
    "\n",
    "# analog implementation\n",
    "fidelities = []\n",
    "\n",
    "for i in range(20):\n",
    "    qc2 = QuantumCircuit(N**2+1)\n",
    "    for i in range(1, N**2 +1):\n",
    "        qc2.h(i)\n",
    "    W(qc2, N, t, i, J_test, G_test)\n",
    "    state2 = Statevector.from_instruction(qc2)\n",
    "    fidelities.append(state_fidelity(state, state2))\n",
    "\n",
    "plt.plot(np.linspace(1,20,20), fidelities)\n",
    "\n",
    "\n"
   ]
  },
  {
   "cell_type": "markdown",
   "metadata": {},
   "source": [
    "we dont really approach 1, so it seems like the dynamics of the current trotter and analog implementations are different from each other"
   ]
  },
  {
   "cell_type": "code",
   "execution_count": 83,
   "metadata": {},
   "outputs": [
    {
     "data": {
      "text/latex": [
       "$$\\frac{\\sqrt{2}}{2} |00\\rangle+\\frac{\\sqrt{2} i}{2} |11\\rangle$$"
      ],
      "text/plain": [
       "<IPython.core.display.Latex object>"
      ]
     },
     "execution_count": 83,
     "metadata": {},
     "output_type": "execute_result"
    }
   ],
   "source": [
    "qc = QuantumCircuit(2)\n",
    "qc.unitary(Operator(expm(-1j*np.pi/2*(yiyj(0,1,2)))), [0,1])\n",
    "qc.unitary(Operator(expm(-1j*np.pi/4*(xixj(0,1,2)))), [0,1])\n",
    "state = Statevector.from_instruction(qc)\n",
    "state.draw('latex')"
   ]
  },
  {
   "cell_type": "code",
   "execution_count": null,
   "metadata": {},
   "outputs": [
    {
     "data": {
      "text/latex": [
       "$$\\frac{\\sqrt{2}}{2} |00\\rangle+\\frac{\\sqrt{2} i}{2} |11\\rangle$$"
      ],
      "text/plain": [
       "<IPython.core.display.Latex object>"
      ]
     },
     "execution_count": 82,
     "metadata": {},
     "output_type": "execute_result"
    }
   ],
   "source": [
    "qc = QuantumCircuit(2)\n",
    "qc.rxx(np.pi/2, 0,1)\n",
    "qc.ryy(np.pi, 0,1)\n",
    "state = Statevector.from_instruction(qc)\n",
    "state.draw('latex')"
   ]
  },
  {
   "cell_type": "code",
   "execution_count": 93,
   "metadata": {},
   "outputs": [
    {
     "name": "stdout",
     "output_type": "stream",
     "text": [
      "[[ 0.91354546+0.j          0.        +0.j          0.        +0.j\n",
      "   0.        -0.40673664j]\n",
      " [ 0.        +0.j         -0.10452846+0.j          0.        -0.9945219j\n",
      "   0.        +0.j        ]\n",
      " [ 0.        +0.j          0.        -0.9945219j  -0.10452846+0.j\n",
      "   0.        +0.j        ]\n",
      " [ 0.        -0.40673664j  0.        +0.j          0.        +0.j\n",
      "   0.91354546+0.j        ]]\n",
      "[[ 0.91354546+0.j          0.        +0.j          0.        +0.j\n",
      "   0.        -0.40673664j]\n",
      " [ 0.        +0.j         -0.10452846+0.j          0.        -0.9945219j\n",
      "   0.        +0.j        ]\n",
      " [ 0.        +0.j          0.        -0.9945219j  -0.10452846+0.j\n",
      "   0.        +0.j        ]\n",
      " [ 0.        -0.40673664j  0.        +0.j          0.        +0.j\n",
      "   0.91354546+0.j        ]]\n"
     ]
    }
   ],
   "source": [
    "m1 =expm(-1j*np.pi/5*yiyj(0,1,2)) @ expm(-1j*np.pi/3*xixj(0,1,2))\n",
    "m2 =expm(-1j*np.pi/5*yiyj(0,1,2) + -1j*np.pi/3*xixj(0,1,2))\n",
    "np.array_equal(m1,m2)\n",
    "print(m1)\n",
    "print(m2)"
   ]
  },
  {
   "cell_type": "code",
   "execution_count": null,
   "metadata": {},
   "outputs": [],
   "source": []
  }
 ],
 "metadata": {
  "kernelspec": {
   "display_name": "190H",
   "language": "python",
   "name": "python3"
  },
  "language_info": {
   "codemirror_mode": {
    "name": "ipython",
    "version": 3
   },
   "file_extension": ".py",
   "mimetype": "text/x-python",
   "name": "python",
   "nbconvert_exporter": "python",
   "pygments_lexer": "ipython3",
   "version": "3.10.16"
  }
 },
 "nbformat": 4,
 "nbformat_minor": 2
}
